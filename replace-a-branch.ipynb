{
 "cells": [
  {
   "cell_type": "markdown",
   "id": "7908a3ad",
   "metadata": {},
   "source": [
    "# Completely Replacing Your Branch"
   ]
  },
  {
   "cell_type": "markdown",
   "id": "3953023b",
   "metadata": {},
   "source": [
    "What do you do if you want to get rid of your version of a branch,\n",
    "and replace it with someone else's? \n",
    "\n",
    "Not just merge his changes into yours, mind you, but really, completely *replace* yours with his?\n",
    "\n",
    "You can do that, and it's not hard. A demo follows."
   ]
  },
  {
   "cell_type": "markdown",
   "id": "5641e58d",
   "metadata": {},
   "source": [
    "## Setting up a playground\n",
    "\n",
    "Begin by setting up a simple repository, with only a master branch."
   ]
  },
  {
   "cell_type": "code",
   "execution_count": null,
   "id": "e4f77e9a",
   "metadata": {
    "scrolled": true
   },
   "outputs": [],
   "source": [
    "sandbox=/tmp/sandbox\n",
    "rm -rf $sandbox   # cleanliness is next to godliness\n",
    "mkdir $sandbox    # create a sandbox\n",
    "cd $_\n",
    "git init scratch  # create a scratch repo\n",
    "cd $_             # and cd into it"
   ]
  },
  {
   "cell_type": "code",
   "execution_count": null,
   "id": "1eacc8af",
   "metadata": {},
   "outputs": [],
   "source": [
    "pwd                         # are we there yet?\n",
    "cat > README.md << __EOF__  # put something in it\n",
    "# Scratch\n",
    "A scratch repo for demos. \n",
    "__EOF__\n",
    "\n",
    "git add README.md           # and get it into git\n",
    "git commit -m\"Add a README\""
   ]
  },
  {
   "cell_type": "code",
   "execution_count": null,
   "id": "07d8729f",
   "metadata": {},
   "outputs": [],
   "source": [
    "cat README.md"
   ]
  },
  {
   "cell_type": "markdown",
   "id": "d9934bc4",
   "metadata": {},
   "source": [
    "Next, let's add a branch and do a little work in it."
   ]
  },
  {
   "cell_type": "code",
   "execution_count": null,
   "id": "ac78c0bd",
   "metadata": {},
   "outputs": [],
   "source": [
    "git checkout -b davidian  # create a branch and check it out\n",
    "mkdir performance-reviews\n",
    "\n",
    "# one employee\n",
    "echo \"WoW (Walks on Water)\" > performance-reviews/willllllllson\n",
    "git add !$\n",
    "git commit -m\"Willllllllson PR\"\n",
    "\n",
    "# and a second\n",
    "echo \"Can't tell his ass from a hole in the ground.\" > performance-reviews/haemer\n",
    "git add !$\n",
    "git commit -m\"Haemer PR\"\n"
   ]
  },
  {
   "cell_type": "markdown",
   "id": "74a29619",
   "metadata": {},
   "source": [
    "Switch back to master and do someting there, too, to make it distinct from the branch."
   ]
  },
  {
   "cell_type": "code",
   "execution_count": null,
   "id": "c8756922",
   "metadata": {},
   "outputs": [],
   "source": [
    "git checkout master\n",
    "mkdir wisdom\n",
    "echo \"It's a beautiful day in the neighborhood.\" > wisdom/rogers\n",
    "echo \"Few things are harder to put up with than the annoyance of a good example.\" > wisdom/twain\n",
    "echo \"If you listen carefully, you get to hear everything you didn't want to hear in the first place\" > wisdom/aleichem\n",
    "echo \"Always carry a knife with you, just in case there's cheesecake or you need to stab someone in the throat.\" > wisdom/mattis\n",
    "git add wisdom\n",
    "git commit -m\"Words of wisdom.\""
   ]
  },
  {
   "cell_type": "markdown",
   "id": "a7077196",
   "metadata": {},
   "source": [
    "Add a popular, convenient monitoring command and look back at what we've done."
   ]
  },
  {
   "cell_type": "code",
   "execution_count": null,
   "id": "6cd0a2ea",
   "metadata": {
    "scrolled": true
   },
   "outputs": [],
   "source": [
    "git config --global alias.lol 'log --all --decorate --oneline --graph'  # add a typing convenience\n",
    "git lol                                                                 # and try it out"
   ]
  },
  {
   "cell_type": "markdown",
   "id": "1046cfd1",
   "metadata": {},
   "source": [
    "Finally, let's create a company-wide Git server on a dedicated machine, maintained by our highly-paid SREs.\n",
    "Call that machine, oh ... *localhost* :-)\n",
    "Once that's done, we can push our repository to it for general access."
   ]
  },
  {
   "cell_type": "code",
   "execution_count": null,
   "id": "a078a9be",
   "metadata": {},
   "outputs": [],
   "source": [
    "repos=$sandbox/git-server\n",
    "mkdir $repos                                                              # a place for all our repos\n",
    "git clone --bare $PWD $repos/scratch.git                                  # create a bare repo\n",
    "git daemon --export-all --enable=receive-pack --base-path=$repos $repos & # serve with git protocol"
   ]
  },
  {
   "cell_type": "markdown",
   "id": "5563ff00",
   "metadata": {},
   "source": [
    "Did that work? Let's check by cloning it."
   ]
  },
  {
   "cell_type": "code",
   "execution_count": null,
   "id": "5b87e5aa",
   "metadata": {},
   "outputs": [],
   "source": [
    "cd $sandbox.                                     # get back, Jo-Jo\n",
    "rm -rf scratch                                   # no guts, no glory!\n",
    "git clone git://localhost/scratch.git scratch.me # this should clone the repo from the server\n",
    "cd scratch.me                                    # Once more unto the breach, dear friends, once more;\n",
    "git remote -v"
   ]
  },
  {
   "cell_type": "markdown",
   "id": "3f1d9178",
   "metadata": {},
   "source": [
    "Finally, verify the work's all there."
   ]
  },
  {
   "cell_type": "code",
   "execution_count": null,
   "id": "38348ba8",
   "metadata": {
    "scrolled": true
   },
   "outputs": [],
   "source": [
    "git lol"
   ]
  },
  {
   "cell_type": "markdown",
   "id": "e41ba75a",
   "metadata": {},
   "source": [
    "Note, though, that it's all there in the server (`origin`). Locally, we now have only `master`.\n",
    "Let's also get `davidian`."
   ]
  },
  {
   "cell_type": "code",
   "execution_count": null,
   "id": "2f9ba6e1",
   "metadata": {
    "scrolled": true
   },
   "outputs": [],
   "source": [
    "git checkout davidian\n",
    "git lol"
   ]
  },
  {
   "cell_type": "markdown",
   "id": "f6ca599b",
   "metadata": {},
   "source": [
    "## Replacing a Problem Branch"
   ]
  },
  {
   "cell_type": "markdown",
   "id": "5fb068fb",
   "metadata": {},
   "source": [
    "Concerned that young Haemer could be disheartened by your harsh assessment of his abilities, \n",
    "your boss, Mr. Washcloth, suggests you rephrase it.\n",
    "\n",
    "Teaching by example, Mr. Washcloth stays late, clones the repository himself, removes your appraisal,\n",
    "writes an all-new version, and replaces the old version on the server."
   ]
  },
  {
   "cell_type": "code",
   "execution_count": null,
   "id": "b9f7efba",
   "metadata": {},
   "outputs": [],
   "source": [
    "cd ..                                                   # back up a level\n",
    "rm -rf scratch.washcloth                                # a clean slate for Mr. Washcloth\n",
    "git clone git://localhost/scratch.git scratch.washcloth # Mr. Washcloth clones the repo\n",
    "cd $_                                                   # now in Mr. Washcloth's clone\n",
    "git checkout davidian                                   # the branch with all the appraisals\n",
    "git reset HEAD~                                         # back up one version\n",
    "cat << __EOF__ > performance-reviews/haemer\n",
    "Although a hard worker, Haemer still often encounts difficulties distinguishing between\n",
    "the terminal end of his alimentary canal and a depression in the earth\\'s surface.\n",
    "__EOF__\n",
    "git add performance-reviews/haemer                       # pop-quiz: why can't you just use `git commit -am` here --\n",
    "git commit -m\"managerially worded Haemer PR\"             #           one step, instead of two?"
   ]
  },
  {
   "cell_type": "code",
   "execution_count": null,
   "id": "a8c8b200",
   "metadata": {},
   "outputs": [],
   "source": [
    "git status\n",
    "git lol"
   ]
  },
  {
   "cell_type": "markdown",
   "id": "adb3e776",
   "metadata": {},
   "source": [
    "Because Mr. Washcloth's `davidian` branch isn't a descendant of `origin/davidian`, he can't push it.\n",
    "He could do a `git pull` and a `git merge`, but that would leave your original version in the history.\n",
    "He doesn't want that, so he managerially stomps all over your version, rewriting history."
   ]
  },
  {
   "cell_type": "code",
   "execution_count": null,
   "id": "33adc6ce",
   "metadata": {},
   "outputs": [],
   "source": [
    "git push --force\n",
    "git status\n",
    "git lol"
   ]
  },
  {
   "cell_type": "markdown",
   "id": "2c376cca",
   "metadata": {},
   "source": [
    "Next, let's return to your local clone of the repo.\n",
    "You come back the next morning and, as far as you can see, nothing has changed."
   ]
  },
  {
   "cell_type": "code",
   "execution_count": null,
   "id": "c404bbb3",
   "metadata": {
    "scrolled": true
   },
   "outputs": [],
   "source": [
    "cd $sandbox/scratch.me  # go back to your version\n",
    "git status\n",
    "git lol"
   ]
  },
  {
   "cell_type": "markdown",
   "id": "41b2690b",
   "metadata": {},
   "source": [
    "A `git fetch` shows you the problem."
   ]
  },
  {
   "cell_type": "code",
   "execution_count": null,
   "id": "cebea38b",
   "metadata": {},
   "outputs": [],
   "source": [
    "git fetch # get all the remote objects\n",
    "git lol"
   ]
  },
  {
   "cell_type": "markdown",
   "id": "e5c66004",
   "metadata": {},
   "source": [
    "Could you pull your manager's version and merge it onto the top of yours?\n",
    "Sure, but your original would still be reachable.\n",
    "Plus, you couldn't just push the result, because now the *server*'s branch wouldn't be a descendent of yours.\n",
    "\n",
    "This, by the way, illustrates why we say, \"Don't ever rebase something that's already public.\"\n",
    "Changing history rarely works out well in either science fiction or in Git.\n",
    "\n",
    "Rules are made to be broken. If you're truly satisfied with Mr. Washcloth's version of this branch,\n",
    "and never want to see yours again, just replace your version with his, like this:"
   ]
  },
  {
   "cell_type": "code",
   "execution_count": null,
   "id": "bdc28079",
   "metadata": {},
   "outputs": [],
   "source": [
    "git reset --hard origin/davidian # completely replace your `davidian` branch with `origin/davidian`\n",
    "git lol\n",
    "git status"
   ]
  },
  {
   "cell_type": "markdown",
   "id": "2a1962bf",
   "metadata": {},
   "source": [
    "## *Aaaaand ... You're Done!*"
   ]
  }
 ],
 "metadata": {
  "kernelspec": {
   "display_name": "Bash",
   "language": "bash",
   "name": "bash"
  },
  "language_info": {
   "codemirror_mode": "shell",
   "file_extension": ".sh",
   "mimetype": "text/x-sh",
   "name": "bash"
  }
 },
 "nbformat": 4,
 "nbformat_minor": 5
}
